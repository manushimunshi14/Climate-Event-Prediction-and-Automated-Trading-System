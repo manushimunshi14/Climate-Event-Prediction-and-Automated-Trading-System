{
 "cells": [
  {
   "cell_type": "code",
   "execution_count": 5,
   "metadata": {},
   "outputs": [],
   "source": [
    "import uuid\n",
    "import kalshi_python\n",
    "from kalshi_python.models import *\n",
    "from pprint import pprint\n",
    "from KalshiClientsBaseV2 import ExchangeClient"
   ]
  },
  {
   "cell_type": "code",
   "execution_count": 6,
   "metadata": {},
   "outputs": [
    {
     "name": "stdout",
     "output_type": "stream",
     "text": [
      "Exchange status response: \n",
      "{'exchange_active': True, 'trading_active': True}\n"
     ]
    }
   ],
   "source": [
    "config = kalshi_python.Configuration()\n",
    "config.host = 'https://demo-api.kalshi.co/trade-api/v2'\n",
    "\n",
    "kalshi_api = kalshi_python.ApiInstance(\n",
    "    email='******',\n",
    "    password='******',\n",
    "    configuration=config,\n",
    ")\n",
    "\n",
    "# Checks if the exchange is available.\n",
    "exchangeStatus = kalshi_api.get_exchange_status()\n",
    "print('Exchange status response: ')\n",
    "pprint(exchangeStatus)"
   ]
  },
  {
   "cell_type": "code",
   "execution_count": 7,
   "metadata": {},
   "outputs": [
    {
     "name": "stdout",
     "output_type": "stream",
     "text": [
      "{'exchange_active': True, 'trading_active': True}\n"
     ]
    }
   ],
   "source": [
    "demo_email = \"manushi@bu.edu\" # change these to be your personal credentials\n",
    "demo_password = \"CS542_cm\" # (for extra security, we recommend using a config file)\n",
    "\n",
    "\n",
    "# for demo\n",
    "demo_api_base = \"https://demo-api.kalshi.co/trade-api/v2\"\n",
    "\n",
    "## if wanting to test in demo\n",
    "exchange_client = ExchangeClient(exchange_api_base = demo_api_base, email = demo_email, password = demo_password)\n",
    "\n",
    "# first we will check on the exchange status to confirm you are properly connected...\n",
    "print(exchange_client.get_exchange_status())"
   ]
  },
  {
   "cell_type": "code",
   "execution_count": 8,
   "metadata": {},
   "outputs": [
    {
     "data": {
      "text/plain": [
       "{'balance': 233081}"
      ]
     },
     "execution_count": 8,
     "metadata": {},
     "output_type": "execute_result"
    }
   ],
   "source": [
    "current_balance = exchange_client.get_balance()\n",
    "current_balance"
   ]
  },
  {
   "cell_type": "markdown",
   "metadata": {},
   "source": [
    "## NYC "
   ]
  },
  {
   "cell_type": "code",
   "execution_count": 9,
   "metadata": {},
   "outputs": [
    {
     "name": "stdout",
     "output_type": "stream",
     "text": [
      "\n",
      "Series: HIGHNY\n",
      "{'series': {'frequency': 'daily',\n",
      "            'ticker': 'HIGHNY',\n",
      "            'title': 'Highest temperature in NYC'}}\n"
     ]
    }
   ],
   "source": [
    "seriesTicker='HIGHNY'\n",
    "seriesResponse = kalshi_api.get_series(seriesTicker)\n",
    "print('\\nSeries: ' + seriesTicker)\n",
    "pprint(seriesResponse)"
   ]
  },
  {
   "cell_type": "code",
   "execution_count": 13,
   "metadata": {},
   "outputs": [
    {
     "name": "stdout",
     "output_type": "stream",
     "text": [
      "\n",
      "Event: HIGHNY\n",
      "Ticker: HIGHNY-24MAR30-T55, Subtitle: 54° or below\n",
      "Ticker: HIGHNY-24MAR30-B55.5, Subtitle: 55° to 56°\n",
      "Ticker: HIGHNY-24MAR30-B57.5, Subtitle: 57° to 58°\n",
      "Ticker: HIGHNY-24MAR30-B59.5, Subtitle: 59° to 60°\n",
      "Ticker: HIGHNY-24MAR30-B61.5, Subtitle: 61° to 62°\n",
      "Ticker: HIGHNY-24MAR30-T62, Subtitle: 63° or above\n"
     ]
    }
   ],
   "source": [
    "eventTicker = 'HIGHNY-24MAR30'\n",
    "eventResponse = kalshi_api.get_event(eventTicker)\n",
    "print('\\nEvent: ' + seriesTicker)\n",
    "# pprint(eventResponse)\n",
    "for market in eventResponse.markets:\n",
    "    print(f\"Ticker: {market.ticker}, Subtitle: {market.subtitle}\")\n"
   ]
  },
  {
   "cell_type": "code",
   "execution_count": 61,
   "metadata": {},
   "outputs": [
    {
     "name": "stdout",
     "output_type": "stream",
     "text": [
      "\n",
      "Orderbook for market: HIGHNY-24MAR30-T55\n",
      "{'orderbook': {'no': [], 'yes': [[50, 10], [99, 1]]}}\n"
     ]
    }
   ],
   "source": [
    "# Gets the orderbook for a specific market.\n",
    "marketTicker = 'HIGHNY-24MAR30-T55'\n",
    "orderbookResponse = kalshi_api.get_market_orderbook(marketTicker)\n",
    "print('\\nOrderbook for market: ' + marketTicker)\n",
    "pprint(orderbookResponse)"
   ]
  },
  {
   "cell_type": "code",
   "execution_count": 62,
   "metadata": {},
   "outputs": [
    {
     "name": "stdout",
     "output_type": "stream",
     "text": [
      "\n",
      "Order submitted: \n",
      "{'order': {'action': 'buy',\n",
      "           'client_order_id': '2afc8270-54f8-449e-a4ad-da827c7c265e',\n",
      "           'created_time': '2024-03-30T15:28:17.254898Z',\n",
      "           'expiration_time': None,\n",
      "           'no_price': 50,\n",
      "           'order_id': '8faeef2a-27e0-43a3-9fbd-4f9f74e61050',\n",
      "           'side': 'no',\n",
      "           'status': 'executed',\n",
      "           'ticker': 'HIGHNY-24MAR30-T55',\n",
      "           'type': 'limit',\n",
      "           'user_id': '99feac2a-2e2c-4bee-b77e-2d73d0bb5824',\n",
      "           'yes_price': 50}}\n"
     ]
    }
   ],
   "source": [
    "if exchangeStatus.trading_active:\n",
    "    orderUuid = str(uuid.uuid4())\n",
    "    orderResponse = kalshi_api.create_order(CreateOrderRequest(\n",
    "        ticker=marketTicker,\n",
    "        action='buy',\n",
    "        type='limit',\n",
    "        yes_price=50,\n",
    "        count=10,\n",
    "        client_order_id=orderUuid,\n",
    "        side='no',\n",
    "    ))\n",
    "    print('\\nOrder submitted: ')\n",
    "    pprint(orderResponse)\n",
    "else:\n",
    "    print('\\nThe exchange is not trading active, no orders will be sent right now.')"
   ]
  },
  {
   "cell_type": "markdown",
   "metadata": {},
   "source": [
    "## CHICAGO"
   ]
  },
  {
   "cell_type": "code",
   "execution_count": 70,
   "metadata": {},
   "outputs": [
    {
     "name": "stdout",
     "output_type": "stream",
     "text": [
      "\n",
      "Series: HIGHCHI\n",
      "{'series': {'frequency': 'daily',\n",
      "            'ticker': 'HIGHCHI',\n",
      "            'title': 'Highest temperature in Chicago'}}\n",
      "\n",
      "Event: HIGHCHI\n",
      "Ticker: HIGHCHI-24MAR30-T55, Subtitle: 54° or below\n",
      "Ticker: HIGHCHI-24MAR30-B55.5, Subtitle: 55° to 56°\n",
      "Ticker: HIGHCHI-24MAR30-B57.5, Subtitle: 57° to 58°\n",
      "Ticker: HIGHCHI-24MAR30-B59.5, Subtitle: 59° to 60°\n",
      "Ticker: HIGHCHI-24MAR30-B61.5, Subtitle: 61° to 62°\n",
      "Ticker: HIGHCHI-24MAR30-T62, Subtitle: 63° or above\n"
     ]
    }
   ],
   "source": [
    "seriesTicker1='HIGHCHI'\n",
    "seriesResponse1 = kalshi_api.get_series(seriesTicker1)\n",
    "print('\\nSeries: ' + seriesTicker1)\n",
    "pprint(seriesResponse1)\n",
    "eventTicker1 = 'HIGHCHI-24MAR30'\n",
    "eventResponse1 = kalshi_api.get_event(eventTicker1)\n",
    "print('\\nEvent: ' + seriesTicker1)\n",
    "# pprint(eventResponse)\n",
    "for market in eventResponse1.markets:\n",
    "    print(f\"Ticker: {market.ticker}, Subtitle: {market.subtitle}\")"
   ]
  },
  {
   "cell_type": "code",
   "execution_count": 71,
   "metadata": {},
   "outputs": [
    {
     "name": "stdout",
     "output_type": "stream",
     "text": [
      "\n",
      "Orderbook for market: HIGHCHI-24MAR30-T55\n",
      "{'orderbook': {'no': [], 'yes': [[50, 10], [70, 1000], [99, 21]]}}\n"
     ]
    }
   ],
   "source": [
    "# Gets the orderbook for a specific market.\n",
    "marketTicker1 = 'HIGHCHI-24MAR30-T55'\n",
    "orderbookResponse = kalshi_api.get_market_orderbook(marketTicker1)\n",
    "print('\\nOrderbook for market: ' + marketTicker1)\n",
    "pprint(orderbookResponse)"
   ]
  },
  {
   "cell_type": "code",
   "execution_count": 72,
   "metadata": {},
   "outputs": [
    {
     "name": "stdout",
     "output_type": "stream",
     "text": [
      "\n",
      "Order submitted: \n",
      "{'order': {'action': 'buy',\n",
      "           'client_order_id': '5c660df2-c8c8-4b39-b1b3-086532ac7c1f',\n",
      "           'created_time': '2024-03-30T15:32:38.595362Z',\n",
      "           'expiration_time': None,\n",
      "           'no_price': 50,\n",
      "           'order_id': '6eb7fbd5-c38f-4016-9721-78287341c3df',\n",
      "           'side': 'yes',\n",
      "           'status': 'resting',\n",
      "           'ticker': 'HIGHCHI-24MAR30-T55',\n",
      "           'type': 'limit',\n",
      "           'user_id': '99feac2a-2e2c-4bee-b77e-2d73d0bb5824',\n",
      "           'yes_price': 50}}\n"
     ]
    }
   ],
   "source": [
    "if exchangeStatus.trading_active:\n",
    "    orderUuid = str(uuid.uuid4())\n",
    "    orderResponse = kalshi_api.create_order(CreateOrderRequest(\n",
    "        ticker=marketTicker1,\n",
    "        action='buy',\n",
    "        type='limit',\n",
    "        yes_price=50,\n",
    "        count=10,\n",
    "        client_order_id=orderUuid,\n",
    "        side='yes',\n",
    "    ))\n",
    "    print('\\nOrder submitted: ')\n",
    "    pprint(orderResponse)\n",
    "else:\n",
    "    print('\\nThe exchange is not trading active, no orders will be sent right now.')"
   ]
  },
  {
   "cell_type": "markdown",
   "metadata": {},
   "source": [
    "## AUSTIN"
   ]
  },
  {
   "cell_type": "code",
   "execution_count": 67,
   "metadata": {},
   "outputs": [
    {
     "name": "stdout",
     "output_type": "stream",
     "text": [
      "\n",
      "Series: HIGHAUS\n",
      "{'series': {'frequency': 'daily',\n",
      "            'ticker': 'HIGHAUS',\n",
      "            'title': 'Highest temperature in Austin'}}\n",
      "\n",
      "Event: HIGHAUS\n",
      "Ticker: HIGHAUS-24MAR30-T75, Subtitle: 74° or below\n",
      "Ticker: HIGHAUS-24MAR30-B75.5, Subtitle: 75° to 76°\n",
      "Ticker: HIGHAUS-24MAR30-B77.5, Subtitle: 77° to 78°\n",
      "Ticker: HIGHAUS-24MAR30-B79.5, Subtitle: 79° to 80°\n",
      "Ticker: HIGHAUS-24MAR30-B81.5, Subtitle: 81° to 82°\n",
      "Ticker: HIGHAUS-24MAR30-T82, Subtitle: 83° or above\n"
     ]
    }
   ],
   "source": [
    "seriesTicker2='HIGHAUS'\n",
    "seriesResponse2 = kalshi_api.get_series(seriesTicker2)\n",
    "print('\\nSeries: ' + seriesTicker2)\n",
    "pprint(seriesResponse2)\n",
    "eventTicker2 = 'HIGHAUS-24MAR30'\n",
    "eventResponse2 = kalshi_api.get_event(eventTicker2)\n",
    "print('\\nEvent: ' + seriesTicker2)\n",
    "# pprint(eventResponse)\n",
    "for market in eventResponse2.markets:\n",
    "    print(f\"Ticker: {market.ticker}, Subtitle: {market.subtitle}\")\n"
   ]
  },
  {
   "cell_type": "code",
   "execution_count": 68,
   "metadata": {},
   "outputs": [
    {
     "name": "stdout",
     "output_type": "stream",
     "text": [
      "\n",
      "Orderbook for market: HIGHAUS-24MAR30-B77.5\n",
      "{'orderbook': {'no': [], 'yes': [[50, 20], [70, 1000], [99, 1]]}}\n"
     ]
    }
   ],
   "source": [
    "# Gets the orderbook for a specific market.\n",
    "marketTicker2 = 'HIGHAUS-24MAR30-B77.5'\n",
    "orderbookResponse = kalshi_api.get_market_orderbook(marketTicker2)\n",
    "print('\\nOrderbook for market: ' + marketTicker2)\n",
    "pprint(orderbookResponse)"
   ]
  },
  {
   "cell_type": "code",
   "execution_count": 69,
   "metadata": {},
   "outputs": [
    {
     "name": "stdout",
     "output_type": "stream",
     "text": [
      "\n",
      "Order submitted: \n",
      "{'order': {'action': 'buy',\n",
      "           'client_order_id': '1c019bbd-5fc2-4474-bf28-560181680ea1',\n",
      "           'created_time': '2024-03-30T15:31:34.94125Z',\n",
      "           'expiration_time': None,\n",
      "           'no_price': 50,\n",
      "           'order_id': '62b7f63b-c777-47af-a389-72ee11e87a46',\n",
      "           'side': 'yes',\n",
      "           'status': 'resting',\n",
      "           'ticker': 'HIGHAUS-24MAR30-B77.5',\n",
      "           'type': 'limit',\n",
      "           'user_id': '99feac2a-2e2c-4bee-b77e-2d73d0bb5824',\n",
      "           'yes_price': 50}}\n"
     ]
    }
   ],
   "source": [
    "if exchangeStatus.trading_active:\n",
    "    orderUuid = str(uuid.uuid4())\n",
    "    orderResponse = kalshi_api.create_order(CreateOrderRequest(\n",
    "        ticker=marketTicker2,\n",
    "        action='buy',\n",
    "        type='limit',\n",
    "        yes_price=50,\n",
    "        count=10,\n",
    "        client_order_id=orderUuid,\n",
    "        side='yes',\n",
    "    ))\n",
    "    print('\\nOrder submitted: ')\n",
    "    pprint(orderResponse)\n",
    "else:\n",
    "    print('\\nThe exchange is not trading active, no orders will be sent right now.')"
   ]
  },
  {
   "cell_type": "markdown",
   "metadata": {},
   "source": [
    "## MIAMI"
   ]
  },
  {
   "cell_type": "code",
   "execution_count": 64,
   "metadata": {},
   "outputs": [
    {
     "name": "stdout",
     "output_type": "stream",
     "text": [
      "\n",
      "Series: HIGHMIA\n",
      "{'series': {'frequency': 'daily',\n",
      "            'ticker': 'HIGHMIA',\n",
      "            'title': 'Highest temperature in Miami'}}\n",
      "\n",
      "Event: HIGHMIA\n",
      "Ticker: HIGHMIA-24MAR30-T73, Subtitle: 72° or below\n",
      "Ticker: HIGHMIA-24MAR30-B73.5, Subtitle: 73° to 74°\n",
      "Ticker: HIGHMIA-24MAR30-B75.5, Subtitle: 75° to 76°\n",
      "Ticker: HIGHMIA-24MAR30-B77.5, Subtitle: 77° to 78°\n",
      "Ticker: HIGHMIA-24MAR30-B79.5, Subtitle: 79° to 80°\n",
      "Ticker: HIGHMIA-24MAR30-T80, Subtitle: 81° or above\n"
     ]
    }
   ],
   "source": [
    "seriesTicker3='HIGHMIA'\n",
    "seriesResponse3 = kalshi_api.get_series(seriesTicker3)\n",
    "print('\\nSeries: ' + seriesTicker3)\n",
    "pprint(seriesResponse3)\n",
    "eventTicker3 = 'HIGHMIA-24MAR30'\n",
    "eventResponse3 = kalshi_api.get_event(eventTicker3)\n",
    "print('\\nEvent: ' + seriesTicker3)\n",
    "# pprint(eventResponse)\n",
    "for market in eventResponse3.markets:\n",
    "    print(f\"Ticker: {market.ticker}, Subtitle: {market.subtitle}\")"
   ]
  },
  {
   "cell_type": "code",
   "execution_count": 65,
   "metadata": {},
   "outputs": [
    {
     "name": "stdout",
     "output_type": "stream",
     "text": [
      "\n",
      "Orderbook for market: HIGHMIA-24MAR30-B75.5\n",
      "{'orderbook': {'no': [], 'yes': [[50, 20], [99, 1]]}}\n"
     ]
    }
   ],
   "source": [
    "# Gets the orderbook for a specific market.\n",
    "marketTicker3 = 'HIGHMIA-24MAR30-B75.5'\n",
    "orderbookResponse = kalshi_api.get_market_orderbook(marketTicker3)\n",
    "print('\\nOrderbook for market: ' + marketTicker3)\n",
    "pprint(orderbookResponse)"
   ]
  },
  {
   "cell_type": "code",
   "execution_count": 66,
   "metadata": {},
   "outputs": [
    {
     "name": "stdout",
     "output_type": "stream",
     "text": [
      "\n",
      "Order submitted: \n",
      "{'order': {'action': 'buy',\n",
      "           'client_order_id': '67f223a2-71cc-4f63-bdbb-8b238a971ec5',\n",
      "           'created_time': '2024-03-30T15:30:13.97364Z',\n",
      "           'expiration_time': None,\n",
      "           'no_price': 50,\n",
      "           'order_id': 'e88e4422-0f1a-43e6-ab5e-1e78bc186042',\n",
      "           'side': 'yes',\n",
      "           'status': 'resting',\n",
      "           'ticker': 'HIGHMIA-24MAR30-B75.5',\n",
      "           'type': 'limit',\n",
      "           'user_id': '99feac2a-2e2c-4bee-b77e-2d73d0bb5824',\n",
      "           'yes_price': 50}}\n"
     ]
    }
   ],
   "source": [
    "if exchangeStatus.trading_active:\n",
    "    orderUuid = str(uuid.uuid4())\n",
    "    orderResponse = kalshi_api.create_order(CreateOrderRequest(\n",
    "        ticker=marketTicker3,\n",
    "        action='buy',\n",
    "        type='limit',\n",
    "        yes_price=50,\n",
    "        count=10,\n",
    "        client_order_id=orderUuid,\n",
    "        side='yes',\n",
    "    ))\n",
    "    print('\\nOrder submitted: ')\n",
    "    pprint(orderResponse)\n",
    "else:\n",
    "    print('\\nThe exchange is not trading active, no orders will be sent right now.')\n"
   ]
  },
  {
   "cell_type": "code",
   "execution_count": null,
   "metadata": {},
   "outputs": [],
   "source": []
  }
 ],
 "metadata": {
  "kernelspec": {
   "display_name": "Python 3",
   "language": "python",
   "name": "python3"
  },
  "language_info": {
   "codemirror_mode": {
    "name": "ipython",
    "version": 3
   },
   "file_extension": ".py",
   "mimetype": "text/x-python",
   "name": "python",
   "nbconvert_exporter": "python",
   "pygments_lexer": "ipython3",
   "version": "3.11.8"
  }
 },
 "nbformat": 4,
 "nbformat_minor": 2
}
